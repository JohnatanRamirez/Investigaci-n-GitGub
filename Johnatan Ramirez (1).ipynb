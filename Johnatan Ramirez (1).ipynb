{
 "cells": [
  {
   "cell_type": "markdown",
   "id": "fda1f36a-211a-407d-83dd-f8bba13be020",
   "metadata": {},
   "source": [
    "# 1. GIT"
   ]
  },
  {
   "cell_type": "code",
   "execution_count": 1,
   "id": "76fb1a02-5489-4b6b-88d4-c7eb6f55e079",
   "metadata": {
    "tags": []
   },
   "outputs": [
    {
     "name": "stdout",
     "output_type": "stream",
     "text": [
      "Git es un sistema de control de versiones distribuido, lo que significa que un clon local del proyecto es un repositorio de control de versiones completo. Estos repositorios locales plenamente funcionales permiten trabajar sin conexión o de forma remota con facilidad.\n"
     ]
    }
   ],
   "source": [
    "print('Git es un sistema de control de versiones distribuido, lo que significa que un clon local del proyecto es un repositorio de control de versiones completo. Estos repositorios locales plenamente funcionales permiten trabajar sin conexión o de forma remota con facilidad.')"
   ]
  },
  {
   "cell_type": "code",
   "execution_count": 2,
   "id": "1cee9f45-b256-41cd-b8f5-224973181eaf",
   "metadata": {
    "tags": []
   },
   "outputs": [
    {
     "name": "stdout",
     "output_type": "stream",
     "text": [
      "Así pues, Git es uno de estos sistemas de control, que permite comparar el código de un archivo para ver las diferencias entre las versiones, restaurar versiones antiguas si algo sale mal, y fusionar los cambios de distintas versiones. También permite trabajar con distintas ramas de un proyecto, como la de desarrollo para meter nuevas funciones al programa o la de producción para depurar los bugs.\n"
     ]
    }
   ],
   "source": [
    "print('Así pues, Git es uno de estos sistemas de control, que permite comparar el código de un archivo para ver las diferencias entre las versiones, restaurar versiones antiguas si algo sale mal, y fusionar los cambios de distintas versiones. También permite trabajar con distintas ramas de un proyecto, como la de desarrollo para meter nuevas funciones al programa o la de producción para depurar los bugs.')"
   ]
  },
  {
   "cell_type": "markdown",
   "id": "1acabeaa-de83-4850-8e84-ee148fef5da7",
   "metadata": {},
   "source": [
    "# 2. GITGUB"
   ]
  },
  {
   "cell_type": "code",
   "execution_count": 3,
   "id": "1f5f1f68-e7e2-43af-9cd5-5cb5e3888578",
   "metadata": {
    "tags": []
   },
   "outputs": [
    {
     "name": "stdout",
     "output_type": "stream",
     "text": [
      "GitHub es un portal creado para alojar el código de las aplicaciones de cualquier desarrollador, y que fue comprada por Microsoft en junio del 2018. La plataforma está creada para que los desarrolladores suban el código de sus aplicaciones y herramientas, y que como usuario no sólo puedas descargarte la aplicación, sino también entrar a su perfil para leer sobre ella o colaborar con su desarrollo.\n"
     ]
    }
   ],
   "source": [
    "print('GitHub es un portal creado para alojar el código de las aplicaciones de cualquier desarrollador, y que fue comprada por Microsoft en junio del 2018. La plataforma está creada para que los desarrolladores suban el código de sus aplicaciones y herramientas, y que como usuario no sólo puedas descargarte la aplicación, sino también entrar a su perfil para leer sobre ella o colaborar con su desarrollo.')"
   ]
  },
  {
   "cell_type": "code",
   "execution_count": 4,
   "id": "2bd6114d-664e-4826-babd-de29979016de",
   "metadata": {
    "tags": []
   },
   "outputs": [
    {
     "name": "stdout",
     "output_type": "stream",
     "text": [
      "GitHub permite que los desarrolladores alojen proyectos creando repositorios de forma gratuita. Pero hay que tener una cosa en mente, y es que para poder subir gratis los proyectos deberán ser de código abierto. Y no quieres que tu aplicación sea de código abierto, la plataforma también tiene una versión de pago para alojar proyectos de forma privada.\n"
     ]
    }
   ],
   "source": [
    "print('GitHub permite que los desarrolladores alojen proyectos creando repositorios de forma gratuita. Pero hay que tener una cosa en mente, y es que para poder subir gratis los proyectos deberán ser de código abierto. Y no quieres que tu aplicación sea de código abierto, la plataforma también tiene una versión de pago para alojar proyectos de forma privada.')"
   ]
  },
  {
   "cell_type": "markdown",
   "id": "5cd2f5d7-2094-46e3-bfa2-8706d5a9ed91",
   "metadata": {},
   "source": [
    "# 3. MAGICCELLS"
   ]
  },
  {
   "cell_type": "code",
   "execution_count": 2,
   "id": "864f07e0-4e60-4e71-8863-a281c5e2793b",
   "metadata": {
    "tags": []
   },
   "outputs": [
    {
     "name": "stdout",
     "output_type": "stream",
     "text": [
      "Las llamadas magias o comandos mágicos en Python / Júpiter notebooks son shortcuts que nos permite realizar acciones sobre nuestro sistema operativo mayormente e interactuar con nuestro shell o notebook, existen dos tipos de magias, y estas se invocan usando el carácter “%”, los magic commands se dividen en dos tipos: %line_magic afectan una sola línea de Código %% cell_magic afectan una celda\n"
     ]
    }
   ],
   "source": [
    "print('Las llamadas magias o comandos mágicos en Python / Júpiter notebooks son shortcuts que nos permite realizar acciones sobre nuestro sistema operativo mayormente e interactuar con nuestro shell o notebook, existen dos tipos de magias, y estas se invocan usando el carácter “%”, los magic commands se dividen en dos tipos: %line_magic afectan una sola línea de Código %% cell_magic afectan una celda')"
   ]
  },
  {
   "cell_type": "code",
   "execution_count": null,
   "id": "bb06a161-ee0f-470c-986b-734f5cf7c42b",
   "metadata": {},
   "outputs": [],
   "source": []
  }
 ],
 "metadata": {
  "kernelspec": {
   "display_name": "Python 3 (ipykernel)",
   "language": "python",
   "name": "python3"
  },
  "language_info": {
   "codemirror_mode": {
    "name": "ipython",
    "version": 3
   },
   "file_extension": ".py",
   "mimetype": "text/x-python",
   "name": "python",
   "nbconvert_exporter": "python",
   "pygments_lexer": "ipython3",
   "version": "3.11.5"
  }
 },
 "nbformat": 4,
 "nbformat_minor": 5
}
